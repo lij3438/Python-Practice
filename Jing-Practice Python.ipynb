{
 "cells": [
  {
   "cell_type": "markdown",
   "id": "dd88f3a1",
   "metadata": {},
   "source": [
    "# Fundamental types¶"
   ]
  },
  {
   "cell_type": "markdown",
   "id": "c4960c4e",
   "metadata": {},
   "source": [
    "# Assignment"
   ]
  },
  {
   "cell_type": "code",
   "execution_count": 17,
   "id": "b5e1a741",
   "metadata": {},
   "outputs": [
    {
     "name": "stdout",
     "output_type": "stream",
     "text": [
      "4\n"
     ]
    }
   ],
   "source": [
    "# variable assignments\n",
    "a=4\n",
    "print (a)"
   ]
  },
  {
   "cell_type": "code",
   "execution_count": 18,
   "id": "945c87c2",
   "metadata": {},
   "outputs": [
    {
     "name": "stdout",
     "output_type": "stream",
     "text": [
      "3\n"
     ]
    }
   ],
   "source": [
    "z=3\n",
    "print(z)"
   ]
  },
  {
   "cell_type": "markdown",
   "id": "877feffa",
   "metadata": {},
   "source": [
    "# Fundamental types"
   ]
  },
  {
   "cell_type": "code",
   "execution_count": 19,
   "id": "14a2df4d",
   "metadata": {},
   "outputs": [
    {
     "data": {
      "text/plain": [
       "int"
      ]
     },
     "execution_count": 19,
     "metadata": {},
     "output_type": "execute_result"
    }
   ],
   "source": [
    "# integers\n",
    "y=2\n",
    "type(y)"
   ]
  },
  {
   "cell_type": "code",
   "execution_count": 20,
   "id": "73fae73c",
   "metadata": {},
   "outputs": [
    {
     "data": {
      "text/plain": [
       "float"
      ]
     },
     "execution_count": 20,
     "metadata": {},
     "output_type": "execute_result"
    }
   ],
   "source": [
    "# float\n",
    "x=1.0\n",
    "type (x)"
   ]
  },
  {
   "cell_type": "code",
   "execution_count": 21,
   "id": "c9a782e0",
   "metadata": {},
   "outputs": [
    {
     "data": {
      "text/plain": [
       "bool"
      ]
     },
     "execution_count": 21,
     "metadata": {},
     "output_type": "execute_result"
    }
   ],
   "source": [
    "# boolean\n",
    "b1 = True\n",
    "b2 = False\n",
    "type(b1)"
   ]
  },
  {
   "cell_type": "markdown",
   "id": "0e315e94",
   "metadata": {},
   "source": [
    "# Operators and comparisons"
   ]
  },
  {
   "cell_type": "code",
   "execution_count": 22,
   "id": "c20950b5",
   "metadata": {},
   "outputs": [
    {
     "data": {
      "text/plain": [
       "1"
      ]
     },
     "execution_count": 22,
     "metadata": {},
     "output_type": "execute_result"
    }
   ],
   "source": [
    "3-2"
   ]
  },
  {
   "cell_type": "code",
   "execution_count": 23,
   "id": "4a64706b",
   "metadata": {},
   "outputs": [
    {
     "data": {
      "text/plain": [
       "21"
      ]
     },
     "execution_count": 23,
     "metadata": {},
     "output_type": "execute_result"
    }
   ],
   "source": [
    "3*7"
   ]
  },
  {
   "cell_type": "code",
   "execution_count": 24,
   "id": "a08f6298",
   "metadata": {},
   "outputs": [
    {
     "data": {
      "text/plain": [
       "(3.0, -1.0, 2.0, 0.5)"
      ]
     },
     "execution_count": 24,
     "metadata": {},
     "output_type": "execute_result"
    }
   ],
   "source": [
    "1.0 + 2.0, 1.0 - 2.0, 1.0 * 2.0, 1.0 / 2.0"
   ]
  },
  {
   "cell_type": "code",
   "execution_count": 25,
   "id": "1b070bee",
   "metadata": {},
   "outputs": [
    {
     "data": {
      "text/plain": [
       "(3, -1, 2, 0.5)"
      ]
     },
     "execution_count": 25,
     "metadata": {},
     "output_type": "execute_result"
    }
   ],
   "source": [
    "1 + 2, 1 - 2, 1 * 2, 1 / 2"
   ]
  },
  {
   "cell_type": "code",
   "execution_count": 26,
   "id": "82ac7770",
   "metadata": {},
   "outputs": [
    {
     "data": {
      "text/plain": [
       "1.0"
      ]
     },
     "execution_count": 26,
     "metadata": {},
     "output_type": "execute_result"
    }
   ],
   "source": [
    "# Integer division of float numbers\n",
    "3.0 // 2.0"
   ]
  },
  {
   "cell_type": "code",
   "execution_count": 27,
   "id": "b1edfabf",
   "metadata": {},
   "outputs": [
    {
     "data": {
      "text/plain": [
       "4"
      ]
     },
     "execution_count": 27,
     "metadata": {},
     "output_type": "execute_result"
    }
   ],
   "source": [
    "# Note! The power operators in python isn't ^, but **\n",
    "2 ** 2"
   ]
  },
  {
   "cell_type": "code",
   "execution_count": 28,
   "id": "d84532df",
   "metadata": {},
   "outputs": [
    {
     "data": {
      "text/plain": [
       "(6, 24, 16, 81, 9, 27)"
      ]
     },
     "execution_count": 28,
     "metadata": {},
     "output_type": "execute_result"
    }
   ],
   "source": [
    "2*3,3*8,2**4,3**4,3*3,3**3"
   ]
  },
  {
   "cell_type": "code",
   "execution_count": 29,
   "id": "179687ea",
   "metadata": {},
   "outputs": [
    {
     "data": {
      "text/plain": [
       "(0.75, 0)"
      ]
     },
     "execution_count": 29,
     "metadata": {},
     "output_type": "execute_result"
    }
   ],
   "source": [
    "3/4,3//4"
   ]
  },
  {
   "cell_type": "code",
   "execution_count": 30,
   "id": "bd6aa7d8",
   "metadata": {},
   "outputs": [
    {
     "data": {
      "text/plain": [
       "(0.5, 0.5, 0, 0.0)"
      ]
     },
     "execution_count": 30,
     "metadata": {},
     "output_type": "execute_result"
    }
   ],
   "source": [
    "2/4,2.0/4.0,2//4,2.0//4.0"
   ]
  },
  {
   "cell_type": "code",
   "execution_count": 31,
   "id": "17c82c05",
   "metadata": {},
   "outputs": [
    {
     "ename": "SyntaxError",
     "evalue": "invalid syntax (3721678769.py, line 1)",
     "output_type": "error",
     "traceback": [
      "\u001b[0;36m  Input \u001b[0;32mIn [31]\u001b[0;36m\u001b[0m\n\u001b[0;31m    The boolean operators are spelled out as the words and, not, or.\u001b[0m\n\u001b[0m        ^\u001b[0m\n\u001b[0;31mSyntaxError\u001b[0m\u001b[0;31m:\u001b[0m invalid syntax\n"
     ]
    }
   ],
   "source": [
    "The boolean operators are spelled out as the words and, not, or."
   ]
  },
  {
   "cell_type": "markdown",
   "id": "233465d1",
   "metadata": {},
   "source": [
    "The boolean operators are spelled out as the words and, not, or."
   ]
  },
  {
   "cell_type": "code",
   "execution_count": null,
   "id": "b757b07d",
   "metadata": {
    "scrolled": true
   },
   "outputs": [],
   "source": [
    "True and False"
   ]
  },
  {
   "cell_type": "code",
   "execution_count": null,
   "id": "c0af2fe6",
   "metadata": {},
   "outputs": [],
   "source": [
    "True or False"
   ]
  },
  {
   "cell_type": "code",
   "execution_count": null,
   "id": "2050b443",
   "metadata": {},
   "outputs": [],
   "source": [
    "not False"
   ]
  },
  {
   "cell_type": "code",
   "execution_count": null,
   "id": "63b86b10",
   "metadata": {},
   "outputs": [],
   "source": [
    "not True"
   ]
  },
  {
   "cell_type": "markdown",
   "id": "f6d69f2e",
   "metadata": {},
   "source": [
    "Comparison operators >, <, >= (greater or equal), <= (less or equal), == equality, is identical."
   ]
  },
  {
   "cell_type": "code",
   "execution_count": null,
   "id": "5916df43",
   "metadata": {},
   "outputs": [],
   "source": [
    "2 > 1, 2 < 1"
   ]
  },
  {
   "cell_type": "code",
   "execution_count": null,
   "id": "219f9013",
   "metadata": {},
   "outputs": [],
   "source": [
    "2 > 2, 2 < 2"
   ]
  },
  {
   "cell_type": "code",
   "execution_count": null,
   "id": "f4d7186a",
   "metadata": {},
   "outputs": [],
   "source": [
    "2 >= 2, 2 <= 2"
   ]
  },
  {
   "cell_type": "code",
   "execution_count": null,
   "id": "538f1a07",
   "metadata": {},
   "outputs": [],
   "source": [
    "# equality\n",
    "[1,2] == [1,2]"
   ]
  },
  {
   "cell_type": "code",
   "execution_count": null,
   "id": "5e33e19e",
   "metadata": {},
   "outputs": [],
   "source": [
    "# objects identical?\n",
    "l1 = l2 = [1,2]\n",
    "\n",
    "l1 is l2"
   ]
  },
  {
   "cell_type": "code",
   "execution_count": null,
   "id": "eecb5cf4",
   "metadata": {},
   "outputs": [],
   "source": [
    "1==3"
   ]
  },
  {
   "cell_type": "code",
   "execution_count": null,
   "id": "cc4e26f2",
   "metadata": {},
   "outputs": [],
   "source": [
    "l3 = l2 = [1,2]\n",
    "\n",
    "l1 is l2"
   ]
  },
  {
   "cell_type": "markdown",
   "id": "c23078a8",
   "metadata": {},
   "source": [
    "# Compound types: Strings, List and dictionaries"
   ]
  },
  {
   "cell_type": "markdown",
   "id": "c284a481",
   "metadata": {},
   "source": [
    "# String"
   ]
  },
  {
   "cell_type": "code",
   "execution_count": null,
   "id": "38676eff",
   "metadata": {
    "scrolled": true
   },
   "outputs": [],
   "source": [
    "n=\"happy birthday\"\n",
    "print (n)"
   ]
  },
  {
   "cell_type": "code",
   "execution_count": null,
   "id": "167b3ca0",
   "metadata": {},
   "outputs": [],
   "source": [
    "type(n)"
   ]
  },
  {
   "cell_type": "code",
   "execution_count": null,
   "id": "762bd535",
   "metadata": {},
   "outputs": [],
   "source": [
    "len(n)"
   ]
  },
  {
   "cell_type": "code",
   "execution_count": null,
   "id": "24fb886e",
   "metadata": {},
   "outputs": [],
   "source": [
    "print (n[1])"
   ]
  },
  {
   "cell_type": "code",
   "execution_count": null,
   "id": "9d993425",
   "metadata": {},
   "outputs": [],
   "source": [
    "# We can index a character in a string using []:\n",
    "n[1]"
   ]
  },
  {
   "cell_type": "code",
   "execution_count": null,
   "id": "1dfb87a3",
   "metadata": {},
   "outputs": [],
   "source": [
    "# replace a substring in a string with something else\n",
    "n2=n.replace ('birthday','new year')\n",
    "print(n2)"
   ]
  },
  {
   "cell_type": "code",
   "execution_count": null,
   "id": "b54eb8f8",
   "metadata": {
    "scrolled": false
   },
   "outputs": [],
   "source": [
    "n2=n.replace (\"birthday\",\"jing\")\n",
    "print(n2)"
   ]
  },
  {
   "cell_type": "markdown",
   "id": "84940ce3",
   "metadata": {},
   "source": [
    "# List\n",
    "\n",
    "Lists are very similar to strings, except that each element can be of any type. \n",
    "\n",
    "The syntax for creating lists in Python is [...]:"
   ]
  },
  {
   "cell_type": "code",
   "execution_count": null,
   "id": "a53b061d",
   "metadata": {},
   "outputs": [],
   "source": [
    "L = [1,2,3,4,5,6,7,8,9]\n",
    "type(L)"
   ]
  },
  {
   "cell_type": "code",
   "execution_count": null,
   "id": "5c894270",
   "metadata": {},
   "outputs": [],
   "source": [
    "# The general syntax for indexing multiple elements at once (slicing) is start:stop:stepsize\n",
    "\n",
    "print(L)\n",
    "\n",
    "print(L[1:3])\n",
    "\n",
    "print(L[2:5])\n",
    "\n",
    "print(L[::2])\n",
    "\n",
    "print(L[1::2])\n",
    "\n",
    "print(L[1:5:2])\n",
    "\n",
    "print(L[2:7:2])"
   ]
  },
  {
   "cell_type": "code",
   "execution_count": null,
   "id": "d520c535",
   "metadata": {},
   "outputs": [],
   "source": [
    "i=[1,2,3,4,5]\n",
    "print(type(i))\n",
    "print(len(i))"
   ]
  },
  {
   "cell_type": "code",
   "execution_count": null,
   "id": "92034bac",
   "metadata": {},
   "outputs": [],
   "source": [
    "# The general syntax for indexing multiple elements at once (slicing) is start:stop:stepsize\n",
    "i[0:2],i[:3],i[1:4:2]"
   ]
  },
  {
   "cell_type": "code",
   "execution_count": null,
   "id": "888f5881",
   "metadata": {},
   "outputs": [],
   "source": [
    "L = [1, 'a', 1.0, 1-1j]\n",
    "\n",
    "print(L)"
   ]
  },
  {
   "cell_type": "code",
   "execution_count": null,
   "id": "ef483674",
   "metadata": {},
   "outputs": [],
   "source": [
    "# Python lists can be inhomogeneous and arbitrarily nested:\n",
    "\n",
    "nested_list = [1, [2, [3, [4, [5]]]]]\n",
    "\n",
    "nested_list"
   ]
  },
  {
   "cell_type": "code",
   "execution_count": null,
   "id": "4d5f3bee",
   "metadata": {},
   "outputs": [],
   "source": [
    "start = 10\n",
    "stop = 30\n",
    "step = 2\n",
    "\n",
    "range(start, stop, step)\n"
   ]
  },
  {
   "cell_type": "code",
   "execution_count": null,
   "id": "0f9fbf59",
   "metadata": {},
   "outputs": [],
   "source": [
    "# in python 3 range generates an iterator, which can be converted to a list using 'list(...)'.\n",
    "\n",
    "# list(range(start, stop, step))\n",
    "\n",
    "list(range(1,3))"
   ]
  },
  {
   "cell_type": "code",
   "execution_count": null,
   "id": "69ef9bd4",
   "metadata": {},
   "outputs": [],
   "source": [
    "# convert a string to a list by type casting:\n",
    "s=[1,5,9,3,7,11]\n",
    "s2=s\n",
    "\n",
    "# sorting lists\n",
    "s2.sort()\n",
    "print(s2)"
   ]
  },
  {
   "cell_type": "markdown",
   "id": "57a758c7",
   "metadata": {},
   "source": [
    "# Adding, inserting, modifying, and removing elements from lists"
   ]
  },
  {
   "cell_type": "code",
   "execution_count": null,
   "id": "d5c58558",
   "metadata": {},
   "outputs": [],
   "source": [
    "# Create a new empty list\n",
    "l = []\n",
    "\n",
    "# Add an elements using `append`\n",
    "l.append(\"a\")\n",
    "l.append(\"b\")\n",
    "l.append(\"c\")\n",
    "l.append(\"A\")\n",
    "print(l)\n",
    "\n",
    "# Modify lists by assigning new values to elements in the list. \n",
    "l[0] = \"x\"\n",
    "l[1] = \"y\"\n",
    "print(l)\n",
    "\n",
    "#In technical jargon, lists are mutable.\n",
    "l[1:3] = [\"5\", \"7\"]\n",
    "print(l)\n",
    "\n",
    "# Insert an element at an specific index using insert\n",
    "l.insert(0, \"m\")\n",
    "l.insert(1, \"n\")\n",
    "l.insert(2, \"j\")\n",
    "l.insert(3, \"h\")\n",
    "print(l)\n",
    "\n",
    "# Remove first element with specific value using 'remove'\n",
    "l.remove(\"j\")\n",
    "l.remove(\"h\")\n",
    "print(l)\n",
    "\n",
    "# Remove an element at a specific location using `del`:\n",
    "del l[2]\n",
    "print(l)"
   ]
  },
  {
   "cell_type": "code",
   "execution_count": null,
   "id": "4cd1fa98",
   "metadata": {},
   "outputs": [],
   "source": [
    "del l[3]\n",
    "print(l)"
   ]
  },
  {
   "cell_type": "markdown",
   "id": "7b920c1e",
   "metadata": {},
   "source": [
    "# tuples\n",
    "\n",
    "Tuples are like lists, except that they cannot be modified once created, that is they are immutable.\n",
    "\n",
    "In Python, tuples are created using the syntax (..., ..., ...) or even ..., ... \n"
   ]
  },
  {
   "cell_type": "code",
   "execution_count": null,
   "id": "ab774904",
   "metadata": {
    "scrolled": true
   },
   "outputs": [],
   "source": [
    "point = (10, 20)\n",
    "\n",
    "print(point, type(point))"
   ]
  },
  {
   "cell_type": "code",
   "execution_count": null,
   "id": "dc53d545",
   "metadata": {},
   "outputs": [],
   "source": [
    "point = 10, 20\n",
    "\n",
    "print(point, type(point))"
   ]
  },
  {
   "cell_type": "code",
   "execution_count": null,
   "id": "015cb863",
   "metadata": {},
   "outputs": [],
   "source": [
    "# We can unpack a tuple by assigning it to a comma-separated list of variables:\n",
    "\n",
    "x, y = point\n",
    "print(\"x =\", x)\n",
    "print(\"y =\", y)"
   ]
  },
  {
   "cell_type": "code",
   "execution_count": null,
   "id": "555277a4",
   "metadata": {},
   "outputs": [],
   "source": [
    "# If we try to assign a new value to an element in a tuple we get an error:\n",
    "point[1] = 30"
   ]
  },
  {
   "cell_type": "code",
   "execution_count": null,
   "id": "d1acbaad",
   "metadata": {},
   "outputs": [],
   "source": [
    "a=(111,'happy')\n",
    "print(a,type(a))"
   ]
  },
  {
   "cell_type": "code",
   "execution_count": null,
   "id": "93477685",
   "metadata": {},
   "outputs": [],
   "source": [
    "a=(111,\"weather\")\n",
    "print(a,type(a))"
   ]
  },
  {
   "cell_type": "markdown",
   "id": "981ec26e",
   "metadata": {},
   "source": [
    "# Dictionaries\n",
    "\n",
    "Dictionaries are also like lists, except that each element is a key-value pair. The syntax for dictionaries is {key1 : value1, ...}"
   ]
  },
  {
   "cell_type": "code",
   "execution_count": null,
   "id": "53aac5d7",
   "metadata": {
    "scrolled": false
   },
   "outputs": [],
   "source": [
    "params = {\"parameter1\" : 1.0,\n",
    "          \"parameter2\" : 2.0,\n",
    "          \"parameter3\" : 3.0,}\n",
    "\n",
    "print(type(params))\n",
    "print(params)"
   ]
  },
  {
   "cell_type": "code",
   "execution_count": null,
   "id": "98f26bee",
   "metadata": {
    "scrolled": false
   },
   "outputs": [],
   "source": [
    "print(\"parameter1 = \" + str(params[\"parameter1\"]))\n",
    "print(\"parameter2 = \" + str(params[\"parameter2\"]))\n",
    "print(\"parameter3 = \" + str(params[\"parameter3\"]))"
   ]
  },
  {
   "cell_type": "code",
   "execution_count": null,
   "id": "d16ad824",
   "metadata": {},
   "outputs": [],
   "source": [
    "# change the values of \"parameter1\" and \"parameter2\"\n",
    "params[\"parameter1\"] = \"A\"\n",
    "params[\"parameter2\"] = \"B\"\n",
    "\n",
    "# add a new entry\n",
    "params[\"parameter4\"] = \"D\"\n",
    "\n",
    "print(\"parameter1 = \" + str(params[\"parameter1\"]))\n",
    "print(\"parameter2 = \" + str(params[\"parameter2\"]))\n",
    "print(\"parameter3 = \" + str(params[\"parameter3\"]))\n",
    "print(\"parameter4 = \" + str(params[\"parameter4\"]))"
   ]
  },
  {
   "cell_type": "code",
   "execution_count": null,
   "id": "3c2e74c2",
   "metadata": {},
   "outputs": [],
   "source": [
    "dicts = {111 : 1.0,\n",
    "          222 : 2.0,\n",
    "          333 : 3.0,}\n",
    "\n",
    "print(type(dicts))\n",
    "print(dicts)"
   ]
  },
  {
   "cell_type": "code",
   "execution_count": null,
   "id": "0c2e2592",
   "metadata": {},
   "outputs": [],
   "source": [
    "print(\"dicts1 = \" + str(dicts[111]))\n",
    "print(\"dicts2 = \" + str(dicts[222]))\n",
    "print(\"dicts3 = \" + str(dicts[333]))"
   ]
  },
  {
   "cell_type": "markdown",
   "id": "ac2dc736",
   "metadata": {},
   "source": [
    "# Control Flow\n",
    "# Conditional statements: if, elif, else\n",
    "The Python syntax for conditional execution of code uses the keywords if, elif (else if), else"
   ]
  },
  {
   "cell_type": "code",
   "execution_count": null,
   "id": "b88ba16b",
   "metadata": {},
   "outputs": [],
   "source": [
    "statement1 = False\n",
    "statement2 = False\n",
    "\n",
    "if statement1:\n",
    "    print(\"statement1 is True\") \n",
    "    \n",
    "elif statement2:\n",
    "    print(\"statement2 is True\")\n",
    "    \n",
    "else:\n",
    "    print(\"statement1 and statement2 are False\")"
   ]
  },
  {
   "cell_type": "raw",
   "id": "748a74e6",
   "metadata": {},
   "source": [
    "\n",
    "\n",
    "// For the first time, here we encounted a peculiar and unusual aspect of the Python programming language: Program blocks are defined by their indentation level.\n",
    "\n",
    "\n",
    "// Compare to the equivalent C code:\n",
    "\n",
    "if (statement1)\n",
    "{\n",
    "    printf(\"statement1 is True\\n\");\n",
    "}\n",
    "else if (statement2)\n",
    "{\n",
    "    printf(\"statement2 is True\\n\");\n",
    "}\n",
    "else\n",
    "{\n",
    "    printf(\"statement1 and statement2 are False\\n\");\n",
    "}\n",
    "\n",
    "In C blocks are defined by the enclosing curly brakets { and }. And the level of indentation (white space before the code statements) does not matter (completely optional).\n",
    "\n",
    "But in Python, the extent of a code block is defined by the indentation level (usually a tab or say four white spaces). This means that we have to be careful to indent our code correctly, or else we will get syntax errors."
   ]
  },
  {
   "cell_type": "markdown",
   "id": "d5497118",
   "metadata": {},
   "source": [
    "# Examples"
   ]
  },
  {
   "cell_type": "code",
   "execution_count": null,
   "id": "e9abdf3c",
   "metadata": {},
   "outputs": [],
   "source": [
    "statement1 = statement2 = True\n",
    "\n",
    "if statement1:\n",
    "    if statement2:\n",
    "        print(\"both statement1 and statement2 are True\")"
   ]
  },
  {
   "cell_type": "code",
   "execution_count": null,
   "id": "97e34ae2",
   "metadata": {},
   "outputs": [],
   "source": [
    "# Bad indentation!\n",
    "if statement1:\n",
    "    if statement2:\n",
    "    print(\"both statement1 and statement2 are True\")  # this line is not properly indented"
   ]
  },
  {
   "cell_type": "code",
   "execution_count": null,
   "id": "7ad83edc",
   "metadata": {},
   "outputs": [],
   "source": [
    "statement1 = False \n",
    "\n",
    "if statement1:\n",
    "    print(\"printed if statement1 is True\")\n",
    "\n",
    "    print(\"still inside the if block\")"
   ]
  },
  {
   "cell_type": "code",
   "execution_count": null,
   "id": "58c12c9c",
   "metadata": {},
   "outputs": [],
   "source": [
    "if statement1:\n",
    "    print(\"printed if statement1 is True\")\n",
    "    \n",
    "print(\"now outside the if block\")"
   ]
  },
  {
   "cell_type": "markdown",
   "id": "1e071c16",
   "metadata": {},
   "source": [
    "# Loops\n",
    "In Python, loops can be programmed in a number of different ways. The most common is the for loop, which is used together with iterable objects, such as lists. The basic syntax is:"
   ]
  },
  {
   "cell_type": "markdown",
   "id": "a6cc78c1",
   "metadata": {},
   "source": [
    "# for Loops"
   ]
  },
  {
   "cell_type": "code",
   "execution_count": null,
   "id": "b68410e9",
   "metadata": {},
   "outputs": [],
   "source": [
    "for x in [1,2,3]:\n",
    "    print(x)"
   ]
  },
  {
   "cell_type": "markdown",
   "id": "ded13cab",
   "metadata": {},
   "source": [
    "// The for loop iterates over the elements of the supplied list, and executes the containing block once for each element. Any kind of list can be used in the for loop. For example:"
   ]
  },
  {
   "cell_type": "code",
   "execution_count": null,
   "id": "ae5b2989",
   "metadata": {},
   "outputs": [],
   "source": [
    "for x in range(4):    # by default range start at 0\n",
    "    print(x)   # Note: range(4) does not include 4 !"
   ]
  },
  {
   "cell_type": "code",
   "execution_count": null,
   "id": "f33904ed",
   "metadata": {},
   "outputs": [],
   "source": [
    "for x in range(-3,3):\n",
    "    print(x)"
   ]
  },
  {
   "cell_type": "code",
   "execution_count": null,
   "id": "4dfa496b",
   "metadata": {},
   "outputs": [],
   "source": [
    "for word in [\"scientific\", \"computing\", \"with\", \"python\"]:\n",
    "    print(word)"
   ]
  },
  {
   "cell_type": "code",
   "execution_count": null,
   "id": "dda2dc07",
   "metadata": {},
   "outputs": [],
   "source": [
    "# To iterate over key-value pairs of a dictionary:\n",
    "\n",
    "for key, value in params.items():\n",
    "    print(key + \" = \" + str(value))"
   ]
  },
  {
   "cell_type": "code",
   "execution_count": null,
   "id": "60e3ee71",
   "metadata": {},
   "outputs": [],
   "source": [
    "# Sometimes it is useful to have access to the indices of the values when iterating over a list. \n",
    "# We can use the enumerate function for this:\n",
    "\n",
    "for idx, x in enumerate(range(-3,3)):    # enumerate  vt.列举; indices : 数学中的指数（index 的复数形式之一）\n",
    "    print(idx, x)"
   ]
  },
  {
   "cell_type": "code",
   "execution_count": null,
   "id": "d8cc72cd",
   "metadata": {},
   "outputs": [],
   "source": [
    "# Use the break statement to exit from a loop\n",
    "\n",
    "break_at = 4\n",
    "for x in range(10):\n",
    "    if x == break_at:\n",
    "        break\n",
    "    print(x)"
   ]
  },
  {
   "cell_type": "code",
   "execution_count": null,
   "id": "1e207a97",
   "metadata": {},
   "outputs": [],
   "source": [
    "break_at = 4\n",
    "for x in range(10):\n",
    "    if x == break_at:\n",
    "        break\n",
    "print(x)   # if 'print' put here, the result will be like this."
   ]
  },
  {
   "cell_type": "markdown",
   "id": "8601e267",
   "metadata": {},
   "source": [
    "# List comprehensions: Creating lists using for loops:"
   ]
  },
  {
   "cell_type": "code",
   "execution_count": null,
   "id": "c42ccdb8",
   "metadata": {},
   "outputs": [],
   "source": [
    " # A convenient and compact way to initialize lists:\n",
    "    \n",
    "q = [x**2 for x in range(0,5)]\n",
    "\n",
    "print(q)"
   ]
  },
  {
   "cell_type": "code",
   "execution_count": null,
   "id": "16ae035c",
   "metadata": {},
   "outputs": [],
   "source": [
    "for x in range(0,5):\n",
    "    \n",
    "    print(x**2)"
   ]
  },
  {
   "cell_type": "markdown",
   "id": "12d32f17",
   "metadata": {},
   "source": [
    "# while Loops"
   ]
  },
  {
   "cell_type": "code",
   "execution_count": null,
   "id": "69b00d24",
   "metadata": {},
   "outputs": [],
   "source": [
    "# Note print(\"done\") statement is not part of while loop body because of the difference in indentation缩进.\n",
    "\n",
    "i = 0\n",
    "\n",
    "while i < 5:\n",
    "    print(i)\n",
    "    \n",
    "    i = i + 1\n",
    "    \n",
    "print(\"done\")   "
   ]
  },
  {
   "cell_type": "code",
   "execution_count": null,
   "id": "ca194fc9",
   "metadata": {},
   "outputs": [],
   "source": [
    "i = 0\n",
    "\n",
    "while i < 5:\n",
    "    print(i)\n",
    "    \n",
    "    i = i + 1\n",
    "    \n",
    "    print(\"done\")"
   ]
  },
  {
   "cell_type": "markdown",
   "id": "e5b1b07b",
   "metadata": {},
   "source": [
    "# Functions\n",
    "A function in Python is defined using the keyword def, followed by a function name, a signature within parentheses (), and a colon :. The following code, with one additional level of indentation, is the function body."
   ]
  },
  {
   "cell_type": "code",
   "execution_count": null,
   "id": "cd6d57e8",
   "metadata": {},
   "outputs": [],
   "source": [
    "def func0():   \n",
    "    print(\"test\")\n",
    "\n",
    "func0()"
   ]
  },
  {
   "cell_type": "code",
   "execution_count": null,
   "id": "0831e6a6",
   "metadata": {},
   "outputs": [],
   "source": [
    "def func1(s):     # Print a string 's' and tell how many characters it has.   \n",
    "    \n",
    "    print(s + \" has \" + str(len(s)) + \" characters\")\n",
    "    \n",
    "func1(\"special\")  # \"special\" is string, remember to add \"\""
   ]
  },
  {
   "cell_type": "markdown",
   "id": "05abe930",
   "metadata": {},
   "source": [
    "\n",
    "// Functions that returns a value use the return keyword:"
   ]
  },
  {
   "cell_type": "code",
   "execution_count": null,
   "id": "b6926101",
   "metadata": {},
   "outputs": [],
   "source": [
    "def square(x):\n",
    "    \"\"\"\n",
    "    Return the square of x.\n",
    "    \"\"\"\n",
    "    return x ** 2\n",
    "\n",
    "square(6)"
   ]
  },
  {
   "cell_type": "markdown",
   "id": "02a66185",
   "metadata": {},
   "source": [
    "// We can return multiple values from a function using tuples (see above):"
   ]
  },
  {
   "cell_type": "code",
   "execution_count": null,
   "id": "4cbb860e",
   "metadata": {},
   "outputs": [],
   "source": [
    "def powers(x):\n",
    "    \"\"\"\n",
    "    Return a few powers of x.\n",
    "    \"\"\"\n",
    "    return x ** 2, x ** 3, x ** 4\n",
    "\n",
    "powers(5)"
   ]
  },
  {
   "cell_type": "code",
   "execution_count": null,
   "id": "bc444b07",
   "metadata": {},
   "outputs": [],
   "source": [
    "x1, x2, x3 = powers(5)\n",
    "\n",
    "print(x3)"
   ]
  },
  {
   "cell_type": "markdown",
   "id": "2af23c30",
   "metadata": {},
   "source": [
    "# Default argument and keyword arguments\n",
    "In a definition of a function, we can give default values to the arguments the function takes:"
   ]
  },
  {
   "cell_type": "code",
   "execution_count": null,
   "id": "6a3fb562",
   "metadata": {},
   "outputs": [],
   "source": [
    "def myfunc(x, p=2, debug=False):\n",
    "    if debug:\n",
    "        print(\"evaluating myfunc for x = \" + str(x) + \" using exponent p = \" + str(p))\n",
    "    return x**p"
   ]
  },
  {
   "cell_type": "markdown",
   "id": "90145ae2",
   "metadata": {},
   "source": [
    "If we don't provide a value of the debug argument when calling the the function myfunc it defaults to the value provided in the function definition:"
   ]
  },
  {
   "cell_type": "code",
   "execution_count": null,
   "id": "37b7a16a",
   "metadata": {},
   "outputs": [],
   "source": [
    "myfunc(5)"
   ]
  },
  {
   "cell_type": "code",
   "execution_count": null,
   "id": "09512808",
   "metadata": {},
   "outputs": [],
   "source": [
    "myfunc(6, debug=True)"
   ]
  },
  {
   "cell_type": "markdown",
   "id": "13e9943f",
   "metadata": {},
   "source": [
    "If we explicitly list the name of the arguments in the function calls, they do not need to come in the same order as in the function definition. This is called keyword arguments, and is often very useful in functions that takes a lot of optional arguments."
   ]
  },
  {
   "cell_type": "code",
   "execution_count": null,
   "id": "1e55e3b8",
   "metadata": {},
   "outputs": [],
   "source": [
    "myfunc(p=3, debug=True, x=4)"
   ]
  },
  {
   "cell_type": "markdown",
   "id": "ba9612c9",
   "metadata": {},
   "source": [
    "# Import code: modules\n",
    "Most of the functionality in Python is provided by modules. The Python Standard Library is a large collection of modules that provides cross-platform implementations of common facilities such as access to the operating system, file I/O, string management, network communication, and much more.\n",
    "\n",
    "A python module is defined in a python file (with file-ending .py), and it can be made accessible to other Python modules and programs using the import statement. We will import the module os, which provides access to the operating system and is useful for loading data and images. Execute the following cell!"
   ]
  },
  {
   "cell_type": "code",
   "execution_count": null,
   "id": "d8c6abdf",
   "metadata": {},
   "outputs": [],
   "source": [
    "import os"
   ]
  },
  {
   "cell_type": "markdown",
   "id": "11a69ba9",
   "metadata": {},
   "source": [
    "After exectuing this cell, your kernel will have access to everything inside the os module which is a common library for interacting with the operating system. We'll need to use the import statement for all of the libraries that we include.\n",
    "\n",
    "Sometimes you may want to write parts of your own code (e.g., utility functions or class definitions) in a seperate file. Or you may prefer coding in your favorite Integrated Development Environment (IDE) such as, for example, Spyder or PyCharm. If you want to import your code into Jupyter to visualize results (or hand in coursework), you can use the import statement to access your code.\n",
    "\n",
    "Example: There should be a file named utils.py in the same directory as this notebook file. This file contains a definition of a function called utils_test() that includes a print statement. We now import everything contained in the file utils.py."
   ]
  },
  {
   "cell_type": "code",
   "execution_count": null,
   "id": "17e4dc5d",
   "metadata": {},
   "outputs": [],
   "source": [
    "import utils   \n",
    "\n",
    "# We can then access the function defined in the file 'utils.py' by writing 'utils.' in front of the function name:\n",
    "utils.utils_test()"
   ]
  },
  {
   "cell_type": "code",
   "execution_count": null,
   "id": "a257f95f",
   "metadata": {},
   "outputs": [],
   "source": [
    "utils.another_function()"
   ]
  },
  {
   "cell_type": "code",
   "execution_count": null,
   "id": "7f651940",
   "metadata": {
    "scrolled": true
   },
   "outputs": [],
   "source": [
    "from utils import utils_test\n",
    "\n",
    "# If use 'from module import function', no need to rewrite 'utils.' in front of the function call.\n",
    "utils_test()   "
   ]
  },
  {
   "cell_type": "code",
   "execution_count": null,
   "id": "59575dd5",
   "metadata": {},
   "outputs": [],
   "source": [
    "# '*' means 'everything'\n",
    "from utils import * \n",
    "utils_test() \n",
    "another_function()"
   ]
  },
  {
   "cell_type": "markdown",
   "id": "e5aeeef4",
   "metadata": {},
   "source": [
    "Using 'from module import function' imports functions directly into the current namespace and thus overwrites existing functions. \n",
    "Compare in the example below."
   ]
  },
  {
   "cell_type": "code",
   "execution_count": null,
   "id": "c8d66a93",
   "metadata": {
    "scrolled": false
   },
   "outputs": [],
   "source": [
    "def utils_test():\n",
    "    print(\"This function was defined inside the Jupyter notebook.\")\n",
    "utils_test()\n",
    "\n",
    "from utils import utils_test\n",
    "utils_test()"
   ]
  },
  {
   "cell_type": "code",
   "execution_count": null,
   "id": "8b43ff42",
   "metadata": {},
   "outputs": [],
   "source": [
    "def another_function():\n",
    "    print(\"jing jing is a beauty.\")\n",
    "another_function()"
   ]
  },
  {
   "cell_type": "code",
   "execution_count": null,
   "id": "3f21aa75",
   "metadata": {},
   "outputs": [],
   "source": [
    "from utils import another_function\n",
    "another_function()"
   ]
  },
  {
   "cell_type": "markdown",
   "id": "1febbcdf",
   "metadata": {},
   "source": [
    "We discourage you using the \"from module import function\" statement as you could overwrite some function. The overhead of writing modulename. in front of imported functions is a small cost for the increased readability and security of using the plain \"import module\" statement."
   ]
  },
  {
   "cell_type": "markdown",
   "id": "905d718e",
   "metadata": {},
   "source": [
    "# Numpy\n",
    "'numpy' is a popular numerical computing module for Python. It comes pre-installed with most Python distributions and is widely used across academia and industry. The main data type of 'numpy' are multi-dimensional arrays. Remember what we said about Python being slow because it is dynamically typed? Almost all methods in numpy that manipulate arrays (indexing, transofrming, linear algebra), are written in C and are thus blazingly fast!\n",
    "\n",
    "We can use the statement \"import long_name_of_a_module as short_name\" to make our lives easier. It is common practice to import 'numpy' as 'np'.\n",
    "\n"
   ]
  },
  {
   "cell_type": "code",
   "execution_count": 33,
   "id": "be6a4197",
   "metadata": {},
   "outputs": [],
   "source": [
    "import numpy as np"
   ]
  },
  {
   "cell_type": "markdown",
   "id": "70781346",
   "metadata": {},
   "source": [
    "**Creating `numpy` arrays**"
   ]
  },
  {
   "cell_type": "code",
   "execution_count": 34,
   "id": "7232cf73",
   "metadata": {},
   "outputs": [
    {
     "name": "stdout",
     "output_type": "stream",
     "text": [
      "a = [3 4 5 6]\n",
      "a_2 = [3 4 5 6 7 8]\n",
      "b =\n",
      "[[1 2]\n",
      " [3 4]]\n",
      "c =\n",
      "[[0. 0. 0. 0. 0.]\n",
      " [0. 0. 0. 0. 0.]\n",
      " [0. 0. 0. 0. 0.]]\n",
      "c_2 = [[1. 1. 1.]\n",
      " [1. 1. 1.]\n",
      " [1. 1. 1.]\n",
      " [1. 1. 1.]\n",
      " [1. 1. 1.]]\n",
      "d =\n",
      "[[3 0 5 0 5]\n",
      " [2 4 0 4 5]\n",
      " [2 1 3 0 1]]\n"
     ]
    }
   ],
   "source": [
    "# One-dimensional array\n",
    "a = np.array([3, 4, 5, 6])\n",
    "print(\"a =\", a)\n",
    "\n",
    "a_2 = np.arange(3, 9) \n",
    "print(\"a_2 =\", a_2)\n",
    "\n",
    "# Two-dimensional array\n",
    "b = np.array([[1, 2],\n",
    "              [3, 4]])\n",
    "print(\"b =\"); print(b)\n",
    "\n",
    "# Variable-length array of zeros\n",
    "num_rows = 3\n",
    "num_cols = 5\n",
    "c = np.zeros(shape=(num_rows, num_cols))\n",
    "print(\"c =\"); print(c)\n",
    "\n",
    "# Variable-length array of ones\n",
    "c_2 = np.ones(shape=(num_cols,num_rows))\n",
    "print(\"c_2 =\",c_2)\n",
    "\n",
    "# Variable length array of random integers between 0 (inclusive) and 6 (exclusive) \n",
    "d = np.random.randint(low = 0, high=6, size=(num_rows, num_cols))\n",
    "print(\"d =\"); print(d)"
   ]
  },
  {
   "cell_type": "markdown",
   "id": "11973b5c",
   "metadata": {},
   "source": [
    "Note that the array c consists of floats instead of integers (as can be seen by the trailing '.' behind each 0). You can specify the type as follows."
   ]
  },
  {
   "cell_type": "code",
   "execution_count": 35,
   "id": "abb29b50",
   "metadata": {},
   "outputs": [
    {
     "name": "stdout",
     "output_type": "stream",
     "text": [
      "c_int =\n",
      "[[0 0 0 0 0]\n",
      " [0 0 0 0 0]\n",
      " [0 0 0 0 0]]\n"
     ]
    }
   ],
   "source": [
    "# Variable-length array of integers\n",
    "c_int = np.zeros(shape = (num_rows, num_cols), dtype = int)\n",
    "print(\"c_int =\")\n",
    "print(c_int)"
   ]
  },
  {
   "cell_type": "markdown",
   "id": "17d1463f",
   "metadata": {},
   "source": [
    "**Indexing arrays** Numpy has numerous ways to access elements of your array. Notice that indices start at 0! Let's look at a few of these, more info on indexing can be found here."
   ]
  },
  {
   "cell_type": "code",
   "execution_count": 36,
   "id": "1d1d18e0",
   "metadata": {},
   "outputs": [
    {
     "name": "stdout",
     "output_type": "stream",
     "text": [
      "a = [3 4 5 6]\n",
      "b =\n",
      "[[1 2]\n",
      " [3 4]]\n",
      "Second element of a:  a[1]= 4\n",
      "Element in the first row, second column of b:   b[0, 1]= 2\n"
     ]
    }
   ],
   "source": [
    "print(\"a =\", a)\n",
    "print(\"b =\"); print(b)\n",
    "\n",
    "# Indexing one-dimensional arrays.\n",
    "second_element_of_a = a[1]\n",
    "print(\"Second element of a:  a[1]=\", second_element_of_a)\n",
    "\n",
    "# Two-dimensional arrays\n",
    "print(\"Element in the first row, second column of b:   b[0, 1]=\", b[0, 1])"
   ]
  },
  {
   "cell_type": "markdown",
   "id": "2d34cd6b",
   "metadata": {},
   "source": [
    "**Slicing arrays** A convinent method to access sub-arrays is to use the ':' operator. Intuitively, ':' says \"choose all elements along this dimension\" or, if used with a preceding or succeeding integer index, \"choose all suceeding or preceding elements\", respectively. For example, we can easily access rows or columns of a multi-dimensional array or \"elements 5 to 10\" of a one-dimensional array."
   ]
  },
  {
   "cell_type": "code",
   "execution_count": 37,
   "id": "2bce615b",
   "metadata": {},
   "outputs": [
    {
     "name": "stdout",
     "output_type": "stream",
     "text": [
      "a = [3 4 5 6]\n",
      "a[1:] = [4 5 6]\n",
      "a[2:] = [5 6]\n",
      "a[:2] = [3 4]\n",
      "a[1:3] = [4 5]\n",
      "b =\n",
      "[[1 2]\n",
      " [3 4]]\n",
      "b[0, :] = [1 2]\n",
      "b[:, 1] = [2 4]\n"
     ]
    }
   ],
   "source": [
    "## Slicing one-dimensional arrays.\n",
    "print(\"a =\", a)\n",
    "print(\"a[1:] =\", a[1:])\n",
    "print(\"a[2:] =\", a[2:])\n",
    "print(\"a[:2] =\", a[:2])\n",
    "print(\"a[1:3] =\", a[1:3])\n",
    "\n",
    "## Slicing two-dimensionl arrays.\n",
    "# First row of b.\n",
    "print(\"b =\"); print(b)\n",
    "print(\"b[0, :] =\", b[0, :])\n",
    "# Second column of b.\n",
    "print(\"b[:, 1] =\", b[:, 1])"
   ]
  },
  {
   "cell_type": "markdown",
   "id": "d4449fe8",
   "metadata": {},
   "source": [
    "**Fancy\" indexing** Numpy allows you to index numpy arrays using other numpy arrays or lists. These can either be arrays or lists of integers or \"boolean masks\"."
   ]
  },
  {
   "cell_type": "code",
   "execution_count": null,
   "id": "ff489244",
   "metadata": {},
   "outputs": [],
   "source": [
    "print(\"d =\"); print(d)\n",
    "row_indices = [0, 2]\n",
    "# row_indices = np.array([0, 2])\n",
    "\n",
    "print(\"Rows 0 and 2 of d:\")\n",
    "print(d[row_indices])\n",
    "\n",
    "col_indices = [2, 4]\n",
    "print(\"Elements [0, 2] and [2, 4] of d:\") # d的第1行的第3列的元素；d的第3行第5列的元素.\n",
    "print(d[row_indices, col_indices])"
   ]
  },
  {
   "cell_type": "code",
   "execution_count": 38,
   "id": "0fd071a8",
   "metadata": {},
   "outputs": [
    {
     "name": "stdout",
     "output_type": "stream",
     "text": [
      "a = [3 4 5 6]\n",
      "a[boolean_mask] = [3 5]\n",
      "a[boolean_mask2] = [3 5]\n"
     ]
    }
   ],
   "source": [
    "print(\"a =\", a)\n",
    "\n",
    "boolean_mask = np.array([True, False, True, False])\n",
    "print(\"a[boolean_mask] =\", a[boolean_mask])\n",
    "# Same as\n",
    "boolean_mask2 = np.array([1, 0, 1, 0], dtype=bool)\n",
    "print(\"a[boolean_mask2] =\", a[boolean_mask2])"
   ]
  },
  {
   "cell_type": "markdown",
   "id": "31f64e5c",
   "metadata": {},
   "source": [
    "**Information about your array**"
   ]
  },
  {
   "cell_type": "code",
   "execution_count": 44,
   "id": "e223eb43",
   "metadata": {},
   "outputs": [
    {
     "name": "stdout",
     "output_type": "stream",
     "text": [
      "a = [3 4 5 6]\n",
      "d =\n",
      "[[3 0 5 0 5]\n",
      " [2 4 0 4 5]\n",
      " [2 1 3 0 1]]\n",
      "(4,)\n",
      "(3, 5)\n",
      "int64\n",
      "2\n"
     ]
    }
   ],
   "source": [
    "print(\"a =\", a)\n",
    "print(\"d =\"); print(d)\n",
    "\n",
    "print(a.shape)\n",
    "print(d.shape)\n",
    "print(d.dtype)\n",
    "print(d.ndim)"
   ]
  },
  {
   "cell_type": "markdown",
   "id": "7f02c39c",
   "metadata": {},
   "source": [
    "**Updating array values**"
   ]
  },
  {
   "cell_type": "code",
   "execution_count": 43,
   "id": "d38f3d04",
   "metadata": {},
   "outputs": [
    {
     "name": "stdout",
     "output_type": "stream",
     "text": [
      "b =\n",
      "[[0 9]\n",
      " [5 4]]\n",
      "[[0 9]\n",
      " [5 4]]\n"
     ]
    }
   ],
   "source": [
    "print(\"b =\"); print(b)\n",
    "\n",
    "# Assign a specific value\n",
    "b[0, 1] = 9\n",
    "print(b)"
   ]
  },
  {
   "cell_type": "code",
   "execution_count": 55,
   "id": "5e9716f2",
   "metadata": {},
   "outputs": [
    {
     "name": "stdout",
     "output_type": "stream",
     "text": [
      "[[-3  9]\n",
      " [11  4]]\n"
     ]
    }
   ],
   "source": [
    "# Increase / decrease values.\n",
    "b[1, 0] += 2    # b的第2行第1列的元素每次+2；b的第1行第1列的元素每次-1。\n",
    "b[0, 0] -= 1\n",
    "print(b)"
   ]
  },
  {
   "cell_type": "markdown",
   "id": "5efcd631",
   "metadata": {},
   "source": [
    "Numpy provides a large methods of functions for array manipulation, statistics, and linear algebra. One way to search for methods is to write `np.` and then press `<tab>`. This shows a dropdown of all available functions in this module:"
   ]
  },
  {
   "cell_type": "code",
   "execution_count": null,
   "id": "230defe8",
   "metadata": {},
   "outputs": [],
   "source": [
    "# uncomment the lines to try them\n",
    "# np.<tab>"
   ]
  },
  {
   "cell_type": "markdown",
   "id": "94f86f37",
   "metadata": {},
   "source": [
    "It is often much easier to google \"numpy + whatever you are trying to do\" than trying to guess the correct method name. However, for simple methods such as sum or mean, you can quickly get to the function's documentation by adding a ? to the end.\n",
    "\n",
    "Let's look at the mean function of np."
   ]
  },
  {
   "cell_type": "code",
   "execution_count": null,
   "id": "002652ec",
   "metadata": {},
   "outputs": [],
   "source": [
    "np.mean?"
   ]
  },
  {
   "cell_type": "code",
   "execution_count": null,
   "id": "a90b1c6e",
   "metadata": {},
   "outputs": [],
   "source": [
    "# Or \n",
    "help(np.mean)"
   ]
  },
  {
   "cell_type": "markdown",
   "id": "3097f540",
   "metadata": {},
   "source": [
    "We can now calculate means of arrays. If we do not specify any further arguments, np.mean calculates the mean of all elements. Note also the two different ways of executing the same function."
   ]
  },
  {
   "cell_type": "code",
   "execution_count": 46,
   "id": "a710e327",
   "metadata": {},
   "outputs": [
    {
     "name": "stdout",
     "output_type": "stream",
     "text": [
      "4.5\n",
      "4.5\n",
      "4.75\n",
      "4.75\n"
     ]
    }
   ],
   "source": [
    "print(np.mean(a))\n",
    "print(a.mean())\n",
    "print(np.mean(b))\n",
    "print(b.mean())"
   ]
  },
  {
   "cell_type": "markdown",
   "id": "0ebc5c11",
   "metadata": {},
   "source": [
    "Sometimes we want to compute column-wise or row-wise means or maxima. We can do so by specifying the axis-argument of the mean() and max() functions, respectively."
   ]
  },
  {
   "cell_type": "code",
   "execution_count": 56,
   "id": "665eda8a",
   "metadata": {},
   "outputs": [
    {
     "name": "stdout",
     "output_type": "stream",
     "text": [
      "[4.  6.5]\n",
      "[ 9 11]\n"
     ]
    }
   ],
   "source": [
    "# Column-wise means 求每列的中位数\n",
    "print(np.mean(b, axis = 0))\n",
    "\n",
    "# Row-wise maxima 求每行的最大数\n",
    "print(np.max(b, axis = 1))"
   ]
  },
  {
   "cell_type": "markdown",
   "id": "35cde3e5",
   "metadata": {},
   "source": [
    "# Linear algebra with numpy\n",
    "Vectorizing code is the key to writing efficient numerical calculation with Python/Numpy. That means that as much as possible of a program should be formulated in terms of matrix and vector operations, like matrix-matrix multiplication."
   ]
  },
  {
   "cell_type": "markdown",
   "id": "bc5ebde9",
   "metadata": {},
   "source": [
    "### Scalar-array operations \n",
    "We can use the usual arithmetic operators to multiply, add, subtract, and divide arrays with scalar numbers."
   ]
  },
  {
   "cell_type": "code",
   "execution_count": 64,
   "id": "b1964170",
   "metadata": {},
   "outputs": [
    {
     "name": "stdout",
     "output_type": "stream",
     "text": [
      "[0 1 2 3 4]\n"
     ]
    }
   ],
   "source": [
    "v1 = np.arange(0, 5)\n",
    "print(v1)"
   ]
  },
  {
   "cell_type": "code",
   "execution_count": 65,
   "id": "7b9ba138",
   "metadata": {},
   "outputs": [
    {
     "data": {
      "text/plain": [
       "array([0, 2, 4, 6, 8])"
      ]
     },
     "execution_count": 65,
     "metadata": {},
     "output_type": "execute_result"
    }
   ],
   "source": [
    "v1 * 2"
   ]
  },
  {
   "cell_type": "code",
   "execution_count": 66,
   "id": "eb4fa72b",
   "metadata": {},
   "outputs": [
    {
     "data": {
      "text/plain": [
       "array([2, 3, 4, 5, 6])"
      ]
     },
     "execution_count": 66,
     "metadata": {},
     "output_type": "execute_result"
    }
   ],
   "source": [
    "v1 + 2"
   ]
  },
  {
   "cell_type": "code",
   "execution_count": 67,
   "id": "e1ca5891",
   "metadata": {},
   "outputs": [
    {
     "name": "stdout",
     "output_type": "stream",
     "text": [
      "[[ 0  1  2  3  4]\n",
      " [10 11 12 13 14]\n",
      " [20 21 22 23 24]\n",
      " [30 31 32 33 34]\n",
      " [40 41 42 43 44]]\n"
     ]
    }
   ],
   "source": [
    "# Let's create a two-dimensional array using list comprehensions\n",
    "A = np.array([[n+m*10 for n in range(5)] for m in range(5)])\n",
    "print(A)"
   ]
  },
  {
   "cell_type": "code",
   "execution_count": 68,
   "id": "a39a35fd",
   "metadata": {},
   "outputs": [
    {
     "name": "stdout",
     "output_type": "stream",
     "text": [
      "[[ 0  2  4  6  8]\n",
      " [20 22 24 26 28]\n",
      " [40 42 44 46 48]\n",
      " [60 62 64 66 68]\n",
      " [80 82 84 86 88]]\n",
      "[[ 2  3  4  5  6]\n",
      " [12 13 14 15 16]\n",
      " [22 23 24 25 26]\n",
      " [32 33 34 35 36]\n",
      " [42 43 44 45 46]]\n"
     ]
    }
   ],
   "source": [
    "print(A * 2)\n",
    "print(A + 2)"
   ]
  },
  {
   "cell_type": "markdown",
   "id": "ba066bb1",
   "metadata": {},
   "source": [
    "### Element-wise array-array operations\n",
    "When we add, subtract, multiply and divide arrays with each other, the default behaviour is element-wise operations:"
   ]
  },
  {
   "cell_type": "code",
   "execution_count": 75,
   "id": "7c7c1578",
   "metadata": {},
   "outputs": [
    {
     "name": "stdout",
     "output_type": "stream",
     "text": [
      "[[ 0  1  2  3  4]\n",
      " [10 11 12 13 14]\n",
      " [20 21 22 23 24]\n",
      " [30 31 32 33 34]\n",
      " [40 41 42 43 44]]\n"
     ]
    },
    {
     "data": {
      "text/plain": [
       "array([[   0,    1,    4,    9,   16],\n",
       "       [ 100,  121,  144,  169,  196],\n",
       "       [ 400,  441,  484,  529,  576],\n",
       "       [ 900,  961, 1024, 1089, 1156],\n",
       "       [1600, 1681, 1764, 1849, 1936]])"
      ]
     },
     "execution_count": 75,
     "metadata": {},
     "output_type": "execute_result"
    }
   ],
   "source": [
    "print(A)\n",
    "\n",
    "# element-wise multiplication\n",
    "A * A"
   ]
  },
  {
   "cell_type": "code",
   "execution_count": 79,
   "id": "704f705a",
   "metadata": {},
   "outputs": [
    {
     "name": "stdout",
     "output_type": "stream",
     "text": [
      "[0 1 2 3 4]\n"
     ]
    },
    {
     "data": {
      "text/plain": [
       "array([ 0,  1,  4,  9, 16])"
      ]
     },
     "execution_count": 79,
     "metadata": {},
     "output_type": "execute_result"
    }
   ],
   "source": [
    "print(v1)\n",
    "\n",
    "v1 * v1"
   ]
  },
  {
   "cell_type": "markdown",
   "id": "12e1e6f0",
   "metadata": {},
   "source": [
    "If we multiply arrays with compatible shapes, we get an element-wise multiplication of each row (be careful with these...):"
   ]
  },
  {
   "cell_type": "code",
   "execution_count": 78,
   "id": "2d1b3963",
   "metadata": {},
   "outputs": [
    {
     "data": {
      "text/plain": [
       "((5, 5), (5,))"
      ]
     },
     "execution_count": 78,
     "metadata": {},
     "output_type": "execute_result"
    }
   ],
   "source": [
    "A.shape, v1.shape"
   ]
  },
  {
   "cell_type": "code",
   "execution_count": 80,
   "id": "11443b13",
   "metadata": {},
   "outputs": [
    {
     "data": {
      "text/plain": [
       "array([[  0,   1,   4,   9,  16],\n",
       "       [  0,  11,  24,  39,  56],\n",
       "       [  0,  21,  44,  69,  96],\n",
       "       [  0,  31,  64,  99, 136],\n",
       "       [  0,  41,  84, 129, 176]])"
      ]
     },
     "execution_count": 80,
     "metadata": {},
     "output_type": "execute_result"
    }
   ],
   "source": [
    "A * v1"
   ]
  },
  {
   "cell_type": "markdown",
   "id": "353237c5",
   "metadata": {},
   "source": [
    "### Matrix algebra\n",
    "What about matrix mutiplication? We can use the dot function, which applies a matrix-matrix, matrix-vector, or inner vector multiplication to its two arguments."
   ]
  },
  {
   "cell_type": "code",
   "execution_count": 81,
   "id": "7d6b3ead",
   "metadata": {},
   "outputs": [
    {
     "data": {
      "text/plain": [
       "array([[ 300,  310,  320,  330,  340],\n",
       "       [1300, 1360, 1420, 1480, 1540],\n",
       "       [2300, 2410, 2520, 2630, 2740],\n",
       "       [3300, 3460, 3620, 3780, 3940],\n",
       "       [4300, 4510, 4720, 4930, 5140]])"
      ]
     },
     "execution_count": 81,
     "metadata": {},
     "output_type": "execute_result"
    }
   ],
   "source": [
    "np.dot(A, A)"
   ]
  },
  {
   "cell_type": "code",
   "execution_count": 82,
   "id": "05f835bc",
   "metadata": {},
   "outputs": [
    {
     "data": {
      "text/plain": [
       "array([ 30, 130, 230, 330, 430])"
      ]
     },
     "execution_count": 82,
     "metadata": {},
     "output_type": "execute_result"
    }
   ],
   "source": [
    "np.dot(A, v1)"
   ]
  },
  {
   "cell_type": "code",
   "execution_count": 83,
   "id": "27264086",
   "metadata": {},
   "outputs": [
    {
     "data": {
      "text/plain": [
       "30"
      ]
     },
     "execution_count": 83,
     "metadata": {},
     "output_type": "execute_result"
    }
   ],
   "source": [
    "np.dot(v1, v1)"
   ]
  },
  {
   "cell_type": "markdown",
   "id": "5713c411",
   "metadata": {},
   "source": [
    "Now if you want to perform many matrix multiplications in one line, this can become quite ugly (e.g., `np.dot(np.dot(np.dot(A, B), C), D)`). You may ask (especially if you are a Matlab user): \"Is there no matrix class such that `A * B * C * D` does matrix multiplication?\" The answer is \"yes\", `numpy` does have a matrix class. However, we recommend to use numpy arrays for two-dimensional arrays. For a thorough comparision between numpy arrays and numpy matrices, have a look at this [Numpy for Matlab users](http://scipy.github.io/old-wiki/pages/NumPy_for_Matlab_Users) guide."
   ]
  },
  {
   "cell_type": "markdown",
   "id": "22151264",
   "metadata": {},
   "source": [
    "## Pitfall #1: Attention when copying data!\n",
    "Assignment of a variable to another variable has a different effect depending on whether the underlying object is immutable (such as, for example, an `integer` or a `tuple`) or mutable (such as a `numpy` array or a `list`). Have a look at these examples:"
   ]
  },
  {
   "cell_type": "code",
   "execution_count": 84,
   "id": "5e2a6322",
   "metadata": {},
   "outputs": [
    {
     "name": "stdout",
     "output_type": "stream",
     "text": [
      "a = 1\n",
      "b = 1\n"
     ]
    }
   ],
   "source": [
    "a = 1\n",
    "b = a\n",
    "print(\"a =\", a)\n",
    "print(\"b =\", b)"
   ]
  },
  {
   "cell_type": "markdown",
   "id": "dda38d6c",
   "metadata": {},
   "source": [
    "Nothing new so far. We now reassign `a` to a new integer. What do you think will happen to `b`?"
   ]
  },
  {
   "cell_type": "code",
   "execution_count": 85,
   "id": "d37e99ff",
   "metadata": {},
   "outputs": [
    {
     "name": "stdout",
     "output_type": "stream",
     "text": [
      "a = 3\n",
      "b = 1\n"
     ]
    }
   ],
   "source": [
    "a = 3\n",
    "print(\"a =\", a)\n",
    "print(\"b =\", b)"
   ]
  },
  {
   "cell_type": "markdown",
   "id": "a7e53112",
   "metadata": {},
   "source": [
    "This is probably what you expected, right? Now let us do something _similar_ with a mutable object: a numpy array."
   ]
  },
  {
   "cell_type": "code",
   "execution_count": 86,
   "id": "d5d9b66d",
   "metadata": {},
   "outputs": [
    {
     "name": "stdout",
     "output_type": "stream",
     "text": [
      "a = [1]\n",
      "b = [1]\n"
     ]
    }
   ],
   "source": [
    "import numpy as np\n",
    "a = np.array([1])\n",
    "b = a\n",
    "print(\"a =\", a)\n",
    "print(\"b =\", b)"
   ]
  },
  {
   "cell_type": "markdown",
   "id": "57575bd2",
   "metadata": {},
   "source": [
    "We now change the content of array `a`... what do you think will happen this time (to array `b`)?"
   ]
  },
  {
   "cell_type": "code",
   "execution_count": 87,
   "id": "b8ffe685",
   "metadata": {},
   "outputs": [
    {
     "name": "stdout",
     "output_type": "stream",
     "text": [
      "a = [3]\n",
      "b = [3]\n"
     ]
    }
   ],
   "source": [
    "a[0] = 3\n",
    "print(\"a =\", a)\n",
    "print(\"b =\", b)"
   ]
  },
  {
   "cell_type": "markdown",
   "id": "1518a97b",
   "metadata": {},
   "source": [
    "You probably guessed it. The content of `b` changes along with the content of `a` even though we only manipulated `a`. This happens because `a` and `b` refer (or _point_) to the very same object. When we execute `b = a` we only create a new reference to the same object having the same memory address.\n",
    "\n",
    "Sometimes this is exaclty what we want; but sometimes we actually want to make an independent copy of some data. In the case of numpy arrays, we can just use the `np.copy()` method. "
   ]
  },
  {
   "cell_type": "code",
   "execution_count": 89,
   "id": "74a1c806",
   "metadata": {},
   "outputs": [
    {
     "name": "stdout",
     "output_type": "stream",
     "text": [
      "a = [1]\n",
      "b = [1]\n",
      "a = [3]\n",
      "b = [1]\n"
     ]
    }
   ],
   "source": [
    "a = np.array([1])\n",
    "b = a.copy()  # or np.copy(a)\n",
    "print(\"a =\", a)\n",
    "print(\"b =\", b)\n",
    "\n",
    "a[0] = 3\n",
    "print(\"a =\", a)\n",
    "print(\"b =\", b)"
   ]
  },
  {
   "cell_type": "markdown",
   "id": "21a6ebd9",
   "metadata": {},
   "source": [
    "As you can see manipulating `a` does not change the content of `b` anymore! We can verify whether two objects correspond to the same object in memory by comparing their addresses. "
   ]
  },
  {
   "cell_type": "code",
   "execution_count": 90,
   "id": "acd347d1",
   "metadata": {},
   "outputs": [
    {
     "name": "stdout",
     "output_type": "stream",
     "text": [
      "4390678128\n",
      "4390678128\n",
      "Same ids: True\n",
      "4390676016\n",
      "4390678416\n",
      "Same ids: False\n"
     ]
    }
   ],
   "source": [
    "# Normal assignment should result in the same id\n",
    "a = np.array([1])\n",
    "b = a\n",
    "print(id(a))\n",
    "print(id(b))\n",
    "print(\"Same ids:\", id(a) == id(b))\n",
    "\n",
    "# A true copy should have a different id\n",
    "a = np.array([1])\n",
    "b = a.copy()\n",
    "print(id(a))\n",
    "print(id(b))\n",
    "print(\"Same ids:\", id(a) == id(b))"
   ]
  },
  {
   "cell_type": "markdown",
   "id": "3d7440d4",
   "metadata": {},
   "source": [
    "If you want to make true copies of more complex objects, have a look at https://docs.python.org/3.7/library/copy.html."
   ]
  },
  {
   "cell_type": "markdown",
   "id": "d9f16806",
   "metadata": {},
   "source": [
    "# Plotting with Matplotlib\n",
    "\n",
    "`matplotlib` is an incredibly powerful Python visualization module. In a reinforcement learning context, we can use it to plot learning curves or to visualize policy functions. We actually use the `matplotlib.pyplot` module which is specifically used in jupyter notebooks."
   ]
  },
  {
   "cell_type": "code",
   "execution_count": 91,
   "id": "a942c381",
   "metadata": {},
   "outputs": [],
   "source": [
    "import matplotlib.pyplot as plt"
   ]
  },
  {
   "cell_type": "markdown",
   "id": "2a8aac96",
   "metadata": {},
   "source": [
    "We'll now tell matplotlib to \"inline\" plots using an ipython magic function:"
   ]
  },
  {
   "cell_type": "code",
   "execution_count": 92,
   "id": "9f2d953a",
   "metadata": {},
   "outputs": [],
   "source": [
    "%matplotlib inline"
   ]
  },
  {
   "cell_type": "markdown",
   "id": "c35886af",
   "metadata": {},
   "source": [
    "This isn't python, so won't work inside of any python script files.  This only works inside notebooks.  What this is saying is that whenever we plot something using matplotlib, put the plots directly into the notebook, instead of using a window popup, which is the default behavior."
   ]
  },
  {
   "cell_type": "markdown",
   "id": "6c6835e0",
   "metadata": {},
   "source": [
    "Let us now start visualizing some random data. You may use this code as a template to plot a learning curve for an agent. \n",
    "\n",
    "Specifically, we will create a sample of 50 random numbers drawn from a [Gaussian random variable](https://en.wikipedia.org/wiki/Normal_distribution) $X \\sim \\mathcal{N}(\\mu, \\sigma)$ with mean $\\mu = 0$ and standard deviation $\\sigma = 0.1$."
   ]
  },
  {
   "cell_type": "code",
   "execution_count": 93,
   "id": "ae59c05f",
   "metadata": {},
   "outputs": [],
   "source": [
    "mu, sigma = 0, 0.1\n",
    "sample = np.random.normal(mu, sigma, size=50)"
   ]
  },
  {
   "cell_type": "markdown",
   "id": "2484a6dd",
   "metadata": {},
   "source": [
    "We can create a simple line plot using the plt.plot() command. Note thaty pyplot automatically assumes that the given data is a function of $x = [1, \\dots, 50]$ because we did not provide any further data."
   ]
  },
  {
   "cell_type": "code",
   "execution_count": 94,
   "id": "b749492b",
   "metadata": {},
   "outputs": [
    {
     "data": {
      "image/png": "[encoded data removed]",
      "text/plain": [
       "<Figure size 640x480 with 1 Axes>"
      ]
     },
     "metadata": {},
     "output_type": "display_data"
    }
   ],
   "source": [
    "plt.plot(sample);"
   ]
  },
  {
   "cell_type": "markdown",
   "id": "ecf2279f",
   "metadata": {},
   "source": [
    "**Customizing your plot.** `matplotlib` lets you change almost every detail of your plot. The `plt.plot()` command that we used in the last cell actually does many things at once: \n",
    "* It creates a **figure**-object, which keeps tracks of all 'axes'-objects (see below) and handles general attributes of the plot such as, for example, the figure size. \n",
    "* It creates one **axes**-object, which is what you think of as 'a plot', that is, the region where the data is visualized.\n",
    "* It creates some essential **artist**-objects such as, for example, both the x-axis and the y-axis and their corresponding ticks.\n",
    "* It uses the data to create the line, another 'artist'.\n",
    "* Finally, it actually 'shows' the plot by drawing all the artists on the canvas.\n",
    "\n",
    "We can take control of any of the steps shown above in order to modify aspects of the plot. In the following example, we create one figure with two subplots (two axes-objects) and populate these with different data."
   ]
  },
  {
   "cell_type": "code",
   "execution_count": 95,
   "id": "00afc7a6",
   "metadata": {},
   "outputs": [
    {
     "data": {
      "image/png": "[encoded data removed]",
      "text/plain": [
       "<Figure size 640x480 with 2 Axes>"
      ]
     },
     "metadata": {},
     "output_type": "display_data"
    }
   ],
   "source": [
    "# We create more data that we want to compare with the first sample. \n",
    "# Note that this operation adds an increasing value to every element\n",
    "# of the np.array 'sample'.\n",
    "sample2 = sample + np.linspace(0, 2, num=50)\n",
    "\n",
    "# We also specify the x-coordinates\n",
    "x = np.arange(0, 50)\n",
    "\n",
    "# Create one figure with two subplots that are positioned within one column.\n",
    "fig, (ax1, ax2) = plt.subplots(nrows=2, ncols=1)\n",
    "\n",
    "# Modify the first subplot.\n",
    "ax1.plot(x, sample, color = \"red\")\n",
    "ax1.set_title(\"Two random line plots\")\n",
    "ax1.set_xlabel('Time')\n",
    "ax1.set_ylabel('y')\n",
    "\n",
    "# Modify the second subplot.\n",
    "ax2.plot(x, sample, color=\"red\", label=\"XYZ\")\n",
    "ax2.plot(x, sample2, color=\"blue\", label=\"BTC\")\n",
    "ax2.set_xlabel('Time')\n",
    "ax2.set_ylabel('y')\n",
    "ax2.legend()\n",
    "\n",
    "# Save the figure\n",
    "plt.savefig(\"name_of_figure.pdf\")\n",
    "\n",
    "# Show the whole figure including both subplots\n",
    "plt.show()"
   ]
  },
  {
   "cell_type": "markdown",
   "id": "e103951e",
   "metadata": {},
   "source": [
    "# Object-oriented programming in Python: Classes\n",
    "Classes are the key features of object-oriented programming. A class is a structure for representing an object and the operations that can be performed on the object. \n",
    "\n",
    "In Python a class can contain *attributes* (variables) and *methods* (functions).\n",
    "\n",
    "A class is defined almost like a function, but using the `class` keyword, and the class definition usually contains a number of class method definitions (a function in a class).\n",
    "\n",
    "* Each class method should have an argument `self` as its first argument. This object is a self-reference.\n",
    "\n",
    "* Some class method names have special meaning, for example:\n",
    "\n",
    "    * `__init__`: The name of the method that is invoked when the object is first created.\n",
    "    * `__str__` : A method that is invoked when a simple string representation of the class is needed, as for example when printed.\n",
    "    * There are many more, see https://docs.python.org/3.7/reference/datamodel.html#special-method-names"
   ]
  },
  {
   "cell_type": "code",
   "execution_count": 104,
   "id": "2ef96009",
   "metadata": {},
   "outputs": [],
   "source": [
    "class Robot:\n",
    "    \"\"\"\n",
    "    Simple class for representing a robot who is located in a Cartesian coordinate system.\n",
    "    \"\"\"\n",
    "    \n",
    "    def __init__(self, name, x, y):\n",
    "        \"\"\"\n",
    "        Create a new Robot with a name at x, y.\n",
    "        \"\"\"\n",
    "        self.name = name\n",
    "        self.x = x\n",
    "        self.y = y\n",
    "        \n",
    "    def move(self, dx, dy):\n",
    "        \"\"\"\n",
    "        Move the robot by dx and dy in the x and y direction.\n",
    "        \"\"\"\n",
    "        self.x += dx\n",
    "        self.y += dy\n",
    "        \n",
    "    def say_hi_to(self, other_robot):\n",
    "        \"\"\"\n",
    "        Start a conversation with another robot.\n",
    "        \"\"\"\n",
    "        print(\"Hi \" + other_robot.name + \"! My name is \" + self.name + \". How are you today?\")\n",
    "        \n",
    "    def __str__(self):\n",
    "        return(\"Robot called '\" + self.name + \"' located at [\" + str(self.x) + \",\" + str(self.y) + \"]\")"
   ]
  },
  {
   "cell_type": "markdown",
   "id": "f32a3620",
   "metadata": {},
   "source": [
    "To create a new instance of a class:"
   ]
  },
  {
   "cell_type": "code",
   "execution_count": 99,
   "id": "e2ce3a0d",
   "metadata": {},
   "outputs": [
    {
     "name": "stdout",
     "output_type": "stream",
     "text": [
      "Robot called 'Rosa' located at [0,0]\n"
     ]
    }
   ],
   "source": [
    "r1 = Robot(\"Rosa\", 0, 0) # this will invoke the __init__ method in the Point class\n",
    "\n",
    "print(r1)                # this will invoke the __str__ method"
   ]
  },
  {
   "cell_type": "markdown",
   "id": "5c73a962",
   "metadata": {},
   "source": [
    "To invoke a class method in the class instance `p`:"
   ]
  },
  {
   "cell_type": "code",
   "execution_count": 100,
   "id": "04a3d8e5",
   "metadata": {},
   "outputs": [
    {
     "name": "stdout",
     "output_type": "stream",
     "text": [
      "Robot called 'Rosa' located at [1,2]\n"
     ]
    }
   ],
   "source": [
    "r1.move(1, 2)\n",
    "\n",
    "print(r1)"
   ]
  },
  {
   "cell_type": "markdown",
   "id": "305f84ff",
   "metadata": {},
   "source": [
    "We create another instance and pass it as an argument to the method of another object."
   ]
  },
  {
   "cell_type": "code",
   "execution_count": 101,
   "id": "38a68e70",
   "metadata": {},
   "outputs": [
    {
     "name": "stdout",
     "output_type": "stream",
     "text": [
      "Hi Robin! My name is Rosa. How are you today?\n"
     ]
    }
   ],
   "source": [
    "r2 = Robot(\"Robin\", 0, 2)\n",
    "\n",
    "r1.say_hi_to(r2)"
   ]
  },
  {
   "cell_type": "markdown",
   "id": "7d1937a8",
   "metadata": {},
   "source": [
    "Note that calling class methods can modifiy the state of that particular class instance, but does not effect other class instances or any global variables.\n",
    "\n",
    "That is one of the nice things about object-oriented design: code such as functions and related variables are grouped in separate and independent entities. "
   ]
  },
  {
   "cell_type": "markdown",
   "id": "36c5754f",
   "metadata": {},
   "source": [
    "If you want to know more about OOP in Python (for example, how to use inheritance), give this [tutorial](https://python.swaroopch.com/oop.html) a try."
   ]
  }
 ],
 "metadata": {
  "kernelspec": {
   "display_name": "Python 3 (ipykernel)",
   "language": "python",
   "name": "python3"
  },
  "language_info": {
   "codemirror_mode": {
    "name": "ipython",
    "version": 3
   },
   "file_extension": ".py",
   "mimetype": "text/x-python",
   "name": "python",
   "nbconvert_exporter": "python",
   "pygments_lexer": "ipython3",
   "version": "3.9.13"
  }
 },
 "nbformat": 4,
 "nbformat_minor": 5
}
